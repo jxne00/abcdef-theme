{
 "cells": [
  {
   "cell_type": "markdown",
   "metadata": {},
   "source": [
    "# This is an example\n",
    "\n",
    "Lorem ipsum dolor sit amet, consectetur adipiscing elit. Sed quis justo sed dolor vulputate facilisis ut et nibh. Praesent ultrices lorem in nisl luctus lacinia. Praesent in nisl at nisi iaculis facilisis."
   ]
  },
  {
   "cell_type": "code",
   "execution_count": null,
   "metadata": {},
   "outputs": [],
   "source": [
    "def groupbyUnsorted(input, key=lambda x: x):\n",
    "    yielded = set()\n",
    "    keys = [key(element) for element in input]\n",
    "    for i, wantedKey in enumerate(keys):\n",
    "        if wantedKey not in yielded:\n",
    "            yield (\n",
    "                wantedKey,\n",
    "                (input[j] for j in range(i, len(input)) if keys[j] == wantedKey),\n",
    "            )\n",
    "        yielded.add(wantedKey)\n"
   ]
  }
 ],
 "metadata": {
  "language_info": {
   "name": "python"
  }
 },
 "nbformat": 4,
 "nbformat_minor": 2
}
